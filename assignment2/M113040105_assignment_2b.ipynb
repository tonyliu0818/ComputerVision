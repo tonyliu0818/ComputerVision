{
 "cells": [
  {
   "cell_type": "code",
   "execution_count": 1,
   "id": "bd55c31b",
   "metadata": {},
   "outputs": [
    {
     "name": "stdout",
     "output_type": "stream",
     "text": [
      "      width < 10: 34706\n",
      "10 <= width < 20: 57250\n",
      "20 <= width < 30: 24885\n",
      "30 <= width < 40: 13338\n",
      "40 <= width < 50: 8011\n",
      "50 <= width     : 20699\n",
      "\n",
      "       width/height < 0.6: 7720\n",
      "0.6 <= width/height < 0.7: 22966\n",
      "0.7 <= width/height < 0.8: 46997\n",
      "0.8 <= width/height < 0.9: 45458\n",
      "0.9 <= width/height < 1.0: 16786\n",
      "1.0 <= width/height      : 18962\n"
     ]
    },
    {
     "data": {
      "image/png": "[encoded data removed]",
      "text/plain": [
       "<Figure size 640x480 with 1 Axes>"
      ]
     },
     "metadata": {},
     "output_type": "display_data"
    },
    {
     "name": "stdout",
     "output_type": "stream",
     "text": [
      "Number of invalid bounding boxes is 535.\n"
     ]
    }
   ],
   "source": [
    "import numpy as np\n",
    "import matplotlib.pyplot as plt\n",
    "import cv2\n",
    "%matplotlib inline\n",
    "if __name__ == '__main__':\n",
    "    anno_file = 'annotation.txt'\n",
    "    data_dir = 'data_dir'\n",
    "    widths=[]\n",
    "    invalid=0\n",
    "    ratios=[]\n",
    "    count = [0,0,0,0,0,0,0,0,0,0,0,0]\n",
    "    with open(anno_file, 'r') as fp:\n",
    "        lines = fp.readlines()\n",
    "  # Enter your code here (25%)\n",
    "  # You might use the following to access each line\n",
    "        for line in lines:\n",
    "            #split text\n",
    "            annotation=line.strip().split(' ')\n",
    "            #text to int and numpy\n",
    "            xy_list=[int(x) for x in annotation[1:]]\n",
    "            xy_list=np.array(xy_list)\n",
    "            #每組4個number\n",
    "            xy_list=xy_list.reshape(-1,4)            \n",
    "            for x1,y1,x2,y2 in xy_list:\n",
    "                if x1>=0 and y1>=0 and x2>x1 and y2>y1:\n",
    "                    w=x2-x1+1                   \n",
    "                    h=y2-y1+1\n",
    "                    ratio=float(w/h)\n",
    "                    widths.append(w)                    \n",
    "                    ratios.append(ratio)                    \n",
    "                    if w<10:\n",
    "                        count[0]+= 1\n",
    "                    elif w>=10 and w<20:\n",
    "                        count[1]+= 1\n",
    "                    elif w>=20 and w<30:\n",
    "                        count[2]+= 1\n",
    "                    elif w>=30 and w<40:\n",
    "                        count[3]+= 1\n",
    "                    elif w>=40 and w<50:\n",
    "                        count[4]+= 1\n",
    "                    elif w>=50:\n",
    "                        count[5]+= 1\n",
    "                    if ratio<0.6:\n",
    "                        count[6] += 1\n",
    "                    elif ratio>=0.6 and ratio<0.7:\n",
    "                        count[7] += 1\n",
    "                    elif ratio>=0.7 and ratio<0.8:\n",
    "                        count[8] += 1\n",
    "                    elif ratio>=0.8 and ratio<0.9:\n",
    "                        count[9] += 1\n",
    "                    elif ratio>=0.9 and ratio<1.0:\n",
    "                        count[10] += 1\n",
    "                    elif ratio>=1.0:\n",
    "                        count[11] += 1\n",
    "                else:\n",
    "                    invalid+=1\n",
    "        print(f'      width < 10: {count[0]}')\n",
    "        print(f'10 <= width < 20: {count[1]}')\n",
    "        print(f'20 <= width < 30: {count[2]}')\n",
    "        print(f'30 <= width < 40: {count[3]}')\n",
    "        print(f'40 <= width < 50: {count[4]}')\n",
    "        print(f'50 <= width     : {count[5]}')\n",
    "        #plt.title('Width Distribution')\n",
    "        #plt.bar(range(6),count[0:6],tick_label=['<10','10~20','20~30','30~40','40~50','>60']) \n",
    "        #plt.xlabel('width')\n",
    "        #plt.ylabel('count')\n",
    "        #plt.show()\n",
    "        print()\n",
    "        print(f'       width/height < 0.6: {count[6]}')\n",
    "        print(f'0.6 <= width/height < 0.7: {count[7]}')\n",
    "        print(f'0.7 <= width/height < 0.8: {count[8]}')\n",
    "        print(f'0.8 <= width/height < 0.9: {count[9]}')\n",
    "        print(f'0.9 <= width/height < 1.0: {count[10]}')\n",
    "        print(f'1.0 <= width/height      : {count[11]}')\n",
    "        #plt.title('Ratio Distribution')\n",
    "        #plt.bar(range(6),count[6:12],tick_label=['<0.6','0.6~0.7','0.7~0.8','0.8~0.9','0.9~1.0','w>1.0']) \n",
    "        #plt.xlabel('ratios')\n",
    "        #plt.ylabel('count')\n",
    "        #plt.show()\n",
    "        plt.title('Valid box width distribution')\n",
    "        plt.hist(widths, range(0,101,10), rwidth=0.85)\n",
    "        plt.xlabel('Width')\n",
    "        plt.ylabel('Counts')\n",
    "        plt.show()\n",
    "        print(f'Number of invalid bounding boxes is {invalid}.')            "
   ]
  },
  {
   "cell_type": "code",
   "execution_count": 2,
   "id": "c807c815",
   "metadata": {},
   "outputs": [
    {
     "name": "stdout",
     "output_type": "stream",
     "text": [
      "Number of invalid bounding boxes is 535.\n"
     ]
    }
   ],
   "source": [
    "# Step 2b.5: In Step 2b.1, we only consider valid bounding boxes. How many bounding boxes are invalid? Modify the above code to find the answer. (5%)\n",
    "# Write down your answer here.\n",
    "#如果滿足x1>=0 and y1>=0 and x2>x1 and y2>y1代表他是合法的box，否則就非法的box，invalid count+1。\n",
    "#code: invalid_Count=0 \n",
    "#      if x1>=0 and y1>=0 and x2>x1 and y2>y1:\n",
    "#         ---------\n",
    "#         ---------\n",
    "#      else:\n",
    "#          #表示邊界為不合法的\n",
    "#          invalid_count+=1\n",
    "print(f'Number of invalid bounding boxes is {invalid}.')"
   ]
  },
  {
   "cell_type": "code",
   "execution_count": null,
   "id": "e076adde",
   "metadata": {},
   "outputs": [],
   "source": []
  }
 ],
 "metadata": {
  "kernelspec": {
   "display_name": "Python 3 (ipykernel)",
   "language": "python",
   "name": "python3"
  },
  "language_info": {
   "codemirror_mode": {
    "name": "ipython",
    "version": 3
   },
   "file_extension": ".py",
   "mimetype": "text/x-python",
   "name": "python",
   "nbconvert_exporter": "python",
   "pygments_lexer": "ipython3",
   "version": "3.9.15"
  }
 },
 "nbformat": 4,
 "nbformat_minor": 5
}
