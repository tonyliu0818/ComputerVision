{
 "cells": [
  {
   "cell_type": "code",
   "execution_count": 1,
   "id": "6411ee35",
   "metadata": {},
   "outputs": [],
   "source": [
    "from tensorflow.keras.layers import MaxPooling2D, Conv2D\n",
    "import numpy as np\n",
    "import tensorflow as tf\n",
    "\n",
    "# Step 2 (30 points)\n",
    "def net48_siso(): \n",
    "    height, width = 48, 48\n",
    "    inputs = tf.keras.Input((height, width, 3),name='input');\n",
    "    x=Conv2D(8,3,1,'same',activation='relu',name='conv1')(inputs)\n",
    "    x=MaxPooling2D(2,2,name='pool1')(x)\n",
    "    \n",
    "    x=Conv2D(16,3,1,'same',activation='relu',name='conv2')(x)\n",
    "    x=MaxPooling2D(2,2,name='pool2')(x)\n",
    "    \n",
    "    x=Conv2D(32,3,1,'same',activation='relu',name='conv3')(x)\n",
    "    x=MaxPooling2D(2,2,name='pool3')(x)\n",
    "    \n",
    "    x=Conv2D(64,3,1,'same',activation='relu',name='conv4')(x)\n",
    "    x=MaxPooling2D(2,2,name='pool4')(x)\n",
    "    \n",
    "    x=Conv2D(128,3,1,'same',activation='relu',name='conv5')(x)\n",
    "    x=MaxPooling2D(2,2,name='pool5')(x)\n",
    "    \n",
    "    x = Conv2D(2, 3, 1, 'same', activation='softmax', name='cls_output')(x)\n",
    "    # enter your code here\n",
    "    outputs = x\n",
    "    return tf.keras.Model(inputs = inputs, outputs = outputs)"
   ]
  },
  {
   "cell_type": "code",
   "execution_count": 2,
   "id": "8467933f",
   "metadata": {},
   "outputs": [],
   "source": [
    "# Step 3 (15 points)\n",
    "def net48_simo(): \n",
    "    height, width = 48, 48\n",
    "    inputs = tf.keras.Input((height, width, 3),name='input');\n",
    "    x = Conv2D(8,3,1,'same',activation='relu',name='conv1')(inputs)    \n",
    "    x=MaxPooling2D(2,2,name='pool1')(x)\n",
    "    \n",
    "    x=Conv2D(16,3,1,'same',activation='relu',name='conv2')(x)\n",
    "    x=MaxPooling2D(2,2,name='pool2')(x)\n",
    "    \n",
    "    x=Conv2D(32,3,1,'same',activation='relu',name='conv3')(x)\n",
    "    x=MaxPooling2D(2,2,name='pool3')(x)\n",
    "    \n",
    "    x=Conv2D(64,3,1,'same',activation='relu',name='conv4')(x)\n",
    "    x=MaxPooling2D(2,2,name='pool4')(x)\n",
    "    \n",
    "    x=Conv2D(128,3,1,'same',activation='relu',name='conv5')(x)\n",
    "    x=MaxPooling2D(2,2,name='pool5')(x)\n",
    "    \n",
    "    cls_output = Conv2D(2, 3, 1, 'same', activation='softmax', name='cls_output')(x)\n",
    "    reg_output = Conv2D(4, 3, 1, 'same', name='reg_output')(x)\n",
    "    # enter your code here\n",
    "    outputs = [cls_output,reg_output]\n",
    "    # you need to modify the following line\n",
    "    return tf.keras.Model(inputs = inputs, outputs = outputs)"
   ]
  },
  {
   "cell_type": "code",
   "execution_count": 3,
   "id": "a6273953",
   "metadata": {},
   "outputs": [],
   "source": [
    "# Do not change below.\n",
    "def check_model(cnn_model, is_simo=False):\n",
    "  print('Checking the CNN model...')\n",
    "  is_passed = True\n",
    "  is_cls_output = False\n",
    "  is_reg_output = False\n",
    "  ishape = cnn_model.input_shape[1:]\n",
    "  if (48,48,3) != ishape:\n",
    "     print('Error! The input shape', ishape, 'is not equal to (48,48,3)')\n",
    "     is_passed = False\n",
    "  for i,layer in enumerate(cnn_model.layers):\n",
    "     if layer.name == 'cls_output':\n",
    "       oshape = layer.output_shape[1:]\n",
    "       is_cls_output = True\n",
    "       if (1,1,2) != oshape:\n",
    "          print('Error! The output shape', oshape, 'is not equal to (1,1,2)')\n",
    "          is_passed = False\n",
    "     if layer.name == 'reg_output':\n",
    "       oshape = layer.output_shape[1:]\n",
    "       is_reg_output = True\n",
    "       if (1,1,4) != oshape:\n",
    "          print('Error! The output shape', oshape, 'is not equal to (1,1,4)')\n",
    "          is_passed = False\n",
    "     layer_type = layer.__class__.__name__\n",
    "     if layer_type == 'Dense':\n",
    "       print('Error! Cannot use Dense layers.')\n",
    "       is_passed = False\n",
    "     if layer_type == 'Conv2D':\n",
    "       kernel_size = layer.kernel_size\n",
    "       strides = layer.strides\n",
    "       if np.max(kernel_size) > 7:\n",
    "         print('({:d} {:s}) Error! kernel_size should be less than or equal to 7'.format(i, layer_type))\n",
    "         is_passed = False\n",
    "       if np.max(strides) > 2:\n",
    "         print('({:d} {:s}) Error! stride should be less than or equal to 2'.format(i, layer_type))\n",
    "         is_passed = False\n",
    "     if layer_type == 'MaxPooling2D':\n",
    "       pool_size = layer.pool_size\n",
    "       strides = layer.strides\n",
    "       if np.max(pool_size) > 2:\n",
    "         print('({:d} {:s}) Error! pool_size should be less than or equal to 2'.format(i, layer_type))\n",
    "         is_passed = False\n",
    "       if np.max(strides) > 2:\n",
    "         print('({:d} {:s}) Error! stride should be less than or equal to 2'.format(i, layer_type))\n",
    "         is_passed = False\n",
    "  if not is_cls_output:\n",
    "     print('Error! There should be a Conv. layer with name cls_output')\n",
    "     is_passed = False\n",
    "  if is_simo:\n",
    "     if not is_reg_output:\n",
    "       print('Error! There should be a Conv. layer with name reg_output')\n",
    "       is_passed = False\n",
    "  if is_passed:\n",
    "     print('Great! The CNN model satisfies all the requirements.')"
   ]
  },
  {
   "cell_type": "code",
   "execution_count": 4,
   "id": "cd182025",
   "metadata": {},
   "outputs": [
    {
     "name": "stdout",
     "output_type": "stream",
     "text": [
      "Model: \"model\"\n",
      "_________________________________________________________________\n",
      " Layer (type)                Output Shape              Param #   \n",
      "=================================================================\n",
      " input (InputLayer)          [(None, 48, 48, 3)]       0         \n",
      "                                                                 \n",
      " conv1 (Conv2D)              (None, 48, 48, 8)         224       \n",
      "                                                                 \n",
      " pool1 (MaxPooling2D)        (None, 24, 24, 8)         0         \n",
      "                                                                 \n",
      " conv2 (Conv2D)              (None, 24, 24, 16)        1168      \n",
      "                                                                 \n",
      " pool2 (MaxPooling2D)        (None, 12, 12, 16)        0         \n",
      "                                                                 \n",
      " conv3 (Conv2D)              (None, 12, 12, 32)        4640      \n",
      "                                                                 \n",
      " pool3 (MaxPooling2D)        (None, 6, 6, 32)          0         \n",
      "                                                                 \n",
      " conv4 (Conv2D)              (None, 6, 6, 64)          18496     \n",
      "                                                                 \n",
      " pool4 (MaxPooling2D)        (None, 3, 3, 64)          0         \n",
      "                                                                 \n",
      " conv5 (Conv2D)              (None, 3, 3, 128)         73856     \n",
      "                                                                 \n",
      " pool5 (MaxPooling2D)        (None, 1, 1, 128)         0         \n",
      "                                                                 \n",
      " cls_output (Conv2D)         (None, 1, 1, 2)           2306      \n",
      "                                                                 \n",
      "=================================================================\n",
      "Total params: 100,690\n",
      "Trainable params: 100,690\n",
      "Non-trainable params: 0\n",
      "_________________________________________________________________\n",
      "Checking the CNN model...\n",
      "Great! The CNN model satisfies all the requirements.\n",
      "\n"
     ]
    }
   ],
   "source": [
    "# Do not change below.\n",
    "model48_siso = net48_siso()\n",
    "model48_siso.summary()\n",
    "check_model(model48_siso)\n",
    "print()"
   ]
  },
  {
   "cell_type": "code",
   "execution_count": 5,
   "id": "0838a4df",
   "metadata": {},
   "outputs": [
    {
     "name": "stdout",
     "output_type": "stream",
     "text": [
      "Model: \"model_1\"\n",
      "__________________________________________________________________________________________________\n",
      " Layer (type)                   Output Shape         Param #     Connected to                     \n",
      "==================================================================================================\n",
      " input (InputLayer)             [(None, 48, 48, 3)]  0           []                               \n",
      "                                                                                                  \n",
      " conv1 (Conv2D)                 (None, 48, 48, 8)    224         ['input[0][0]']                  \n",
      "                                                                                                  \n",
      " pool1 (MaxPooling2D)           (None, 24, 24, 8)    0           ['conv1[0][0]']                  \n",
      "                                                                                                  \n",
      " conv2 (Conv2D)                 (None, 24, 24, 16)   1168        ['pool1[0][0]']                  \n",
      "                                                                                                  \n",
      " pool2 (MaxPooling2D)           (None, 12, 12, 16)   0           ['conv2[0][0]']                  \n",
      "                                                                                                  \n",
      " conv3 (Conv2D)                 (None, 12, 12, 32)   4640        ['pool2[0][0]']                  \n",
      "                                                                                                  \n",
      " pool3 (MaxPooling2D)           (None, 6, 6, 32)     0           ['conv3[0][0]']                  \n",
      "                                                                                                  \n",
      " conv4 (Conv2D)                 (None, 6, 6, 64)     18496       ['pool3[0][0]']                  \n",
      "                                                                                                  \n",
      " pool4 (MaxPooling2D)           (None, 3, 3, 64)     0           ['conv4[0][0]']                  \n",
      "                                                                                                  \n",
      " conv5 (Conv2D)                 (None, 3, 3, 128)    73856       ['pool4[0][0]']                  \n",
      "                                                                                                  \n",
      " pool5 (MaxPooling2D)           (None, 1, 1, 128)    0           ['conv5[0][0]']                  \n",
      "                                                                                                  \n",
      " cls_output (Conv2D)            (None, 1, 1, 2)      2306        ['pool5[0][0]']                  \n",
      "                                                                                                  \n",
      " reg_output (Conv2D)            (None, 1, 1, 4)      4612        ['pool5[0][0]']                  \n",
      "                                                                                                  \n",
      "==================================================================================================\n",
      "Total params: 105,302\n",
      "Trainable params: 105,302\n",
      "Non-trainable params: 0\n",
      "__________________________________________________________________________________________________\n",
      "Checking the CNN model...\n",
      "Great! The CNN model satisfies all the requirements.\n",
      "\n"
     ]
    }
   ],
   "source": [
    "# Do not change below.\n",
    "model48_simo = net48_simo()\n",
    "model48_simo.summary()\n",
    "check_model(model48_simo, is_simo=True)\n",
    "print()"
   ]
  },
  {
   "cell_type": "code",
   "execution_count": 6,
   "id": "06570de5",
   "metadata": {},
   "outputs": [
    {
     "name": "stdout",
     "output_type": "stream",
     "text": [
      "1/1 [==============================] - 1s 1s/step\n",
      "(1, 1, 1, 2)\n",
      "(1, 1, 1, 4)\n",
      "[0.4876845  0.51231545]\n"
     ]
    }
   ],
   "source": [
    "# Do not change below.\n",
    "img = np.random.randn(1, 48, 48, 3)\n",
    "outputs = model48_simo.predict(img)\n",
    "print(outputs[0].shape) # should display (1,1,1,2)\n",
    "print(outputs[1].shape) # should display (1,1,1,4)\n",
    "cls = np.reshape(outputs[0], (2,))\n",
    "reg = np.reshape(outputs[1], (4,))\n",
    "print(cls)"
   ]
  },
  {
   "cell_type": "code",
   "execution_count": 7,
   "id": "be2772e8",
   "metadata": {},
   "outputs": [
    {
     "data": {
      "text/plain": [
       "'\\n因輸出層的激活函數是 softmax，所有元素之和為 1。因此，cls[0] + cls[1] 的值總是等於 1\\n'"
      ]
     },
     "execution_count": 7,
     "metadata": {},
     "output_type": "execute_result"
    }
   ],
   "source": [
    "# Question 2 (5 points)\n",
    "# Why cls[0] + cls[1] is always equal to one regardless of  the values of img?\n",
    "'''\n",
    "因輸出層的激活函數是 softmax，所有元素之和為 1。因此，cls[0] + cls[1] 的值總是等於 1\n",
    "'''"
   ]
  },
  {
   "cell_type": "code",
   "execution_count": null,
   "id": "4ff9edf5",
   "metadata": {},
   "outputs": [],
   "source": []
  }
 ],
 "metadata": {
  "kernelspec": {
   "display_name": "Python 3 (ipykernel)",
   "language": "python",
   "name": "python3"
  },
  "language_info": {
   "codemirror_mode": {
    "name": "ipython",
    "version": 3
   },
   "file_extension": ".py",
   "mimetype": "text/x-python",
   "name": "python",
   "nbconvert_exporter": "python",
   "pygments_lexer": "ipython3",
   "version": "3.9.15"
  }
 },
 "nbformat": 4,
 "nbformat_minor": 5
}
