{
 "cells": [
  {
   "cell_type": "code",
   "execution_count": 8,
   "metadata": {
    "executionInfo": {
     "elapsed": 1450,
     "status": "ok",
     "timestamp": 1682872010542,
     "user": {
      "displayName": "劉東霖",
      "userId": "04574598346699482273"
     },
     "user_tz": -480
    },
    "id": "xK4jVbH654oq"
   },
   "outputs": [],
   "source": [
    "import os, sys\n",
    "import cv2\n",
    "import numpy as np\n",
    "import pickle\n",
    "import tensorflow as tf\n",
    "from tensorflow import keras\n",
    "from tensorflow.keras.layers import MaxPooling2D, Conv2D, Dense, Flatten\n",
    "import matplotlib.pyplot as plt\n",
    "def get_data_from_file(train_file):\n",
    "    train_data = []\n",
    "    # enter your code here (7 points)\n",
    "    with open(train_file) as fp:\n",
    "        lines=fp.readlines()\n",
    "    for k,line in enumerate(lines):\n",
    "        print('{:6d} /{:6d}'.format(k+1, len(lines)), end='\\r')\n",
    "        img_path = os.path.join('dogs_and_cats\\\\train', line.split()[0])\n",
    "        try:\n",
    "            img = cv2.imread(img_path)\n",
    "            img_resized = cv2.resize(img, (48, 48))\n",
    "            if 'cat' in line:\n",
    "                label = 0\n",
    "            elif 'dog' in line:\n",
    "                label = 1\n",
    "            train_data.append([img_resized, label])\n",
    "        except:\n",
    "                print('Error reading file:', img_path)\n",
    "    return train_data\n",
    "\n",
    "def get_image_and_label(train_data):\n",
    "  # enter your code here (8 points)\n",
    "    x_train=np.array([i[0] for i in train_data]).reshape(-1,48,48,3)\n",
    "    y_train=np.array([i[1] for i in train_data])\n",
    "    return x_train, y_train\n",
    "def assignment4b_1():\n",
    "    train_file = 'train_list.txt'\n",
    "    test_file = 'test_list.txt'\n",
    "    train_data = get_data_from_file(train_file)\n",
    "    X_train, Y_train = get_image_and_label(train_data)\n",
    "    print()  \n",
    "    test_data = get_data_from_file(test_file)\n",
    "    X_test, Y_test = get_image_and_label(test_data)\n",
    "    print()\n",
    "    print(len(train_data))\n",
    "    print(train_data[0][0].shape)\n",
    "    print(len(test_data))\n",
    "    print(test_data[0][0].shape)\n",
    "\n",
    "    save_path = 'dogs_cats.pkl'\n",
    "    print('Saving to', save_path)\n",
    "    data = {}\n",
    "    data['X_train'] = X_train\n",
    "    data['Y_train'] = Y_train\n",
    "    data['X_test'] = X_test\n",
    "    data['Y_test'] = Y_test\n",
    "    pickle.dump(data, open(save_path, 'wb'))\n",
    "\n",
    "def build_model():\n",
    "  # enter your code here, and remove the following pass (15 points)\n",
    "    inputs = tf.keras.Input((48, 48, 3),name='input')\n",
    "    x=Conv2D(32,3,1,'same',activation='relu',name='conv2d_3')(inputs)\n",
    "    x=MaxPooling2D(2,2,name='max_pool_3')(x)\n",
    "    \n",
    "    x=Conv2D(32,3,1,'same',activation='relu',name='conv2d_4')(x)\n",
    "    x=MaxPooling2D(2,2,name='max_pool_4')(x)\n",
    "    \n",
    "    x=Conv2D(32,3,1,'same',activation='relu',name='conv2d_5')(x)\n",
    "    x=MaxPooling2D(2,2,name='max_pool_5')(x)\n",
    "    x=Flatten(name='flatten_1')(x)\n",
    "    out=Dense(2,activation='softmax',name='dense_1')(x)\n",
    "    return tf.keras.Model(inputs = inputs, outputs = out)  \n",
    "def assignment4b_2():\n",
    "    data = pickle.load(open(\"dogs_cats.pkl\",\"rb\"))\n",
    "    X_train, Y_train, X_test, Y_test = data[\"X_train\"], data[\"Y_train\"], data[\"X_test\"], data[\"Y_test\"]\n",
    "    X_train = X_train / 255.0\n",
    "    X_test = X_test / 255.0\n",
    "    model = build_model()\n",
    "    model.summary()\n",
    "    model.compile(optimizer='adam', loss='sparse_categorical_crossentropy',metrics=['accuracy'])\n",
    "    ck_dir = \"ckpt_dogcat\"\n",
    "    checkpoint_path = ck_dir+\"/cp-{epoch:04d}.ckpt\"\n",
    "    cp_callback = keras.callbacks.ModelCheckpoint(checkpoint_path, save_weights_only=True, verbose=1, period=10)\n",
    "    batch_size = 64\n",
    "    epochs = 60\n",
    "  # enter your code here (5 points)\n",
    "   \n",
    "    history = model.fit(X_train, Y_train, epochs, batch_size,callbacks=[cp_callback], validation_split=0.1, shuffle=True)\n",
    "    test_loss, test_acc = model.evaluate(X_test, Y_test)\n",
    "    print(f'test_loss:{test_loss},test_acc:{test_acc}')\n",
    "    pickle.dump(history.history, open(\"history.pkl\", 'wb'))\n",
    "\n",
    "def assignment4b_3():\n",
    "  # enter your code here, and remove the following pass (5 points)\n",
    "    history = pickle.load(open(\"history.pkl\",\"rb\"))\n",
    "    fig=plt.figure()\n",
    "    plt.subplot(2,1,1)\n",
    "    plt.plot(history['accuracy'])\n",
    "    plt.plot(history['val_accuracy'])\n",
    "    plt.ylabel('accuracy')\n",
    "    plt.xlabel('epoch')\n",
    "    plt.legend(['train', 'val'], loc='upper left')\n",
    "    plt.show()\n",
    "    plt.subplot(2,1,2)\n",
    "    plt.plot(history['loss'])\n",
    "    plt.plot(history['val_loss'])\n",
    "    plt.ylabel('loss')\n",
    "    plt.xlabel('epoch')\n",
    "    plt.legend(['train', 'val'], loc='upper left')\n",
    "    plt.show()\n",
    "\n",
    "def assignment4b_4():\n",
    "  # enter your code here, and remove the following pass (5 points)\n",
    "    data = pickle.load(open(\"dogs_cats.pkl\",\"rb\"))\n",
    "    X_train, Y_train, X_test, Y_test = data[\"X_train\"], data[\"Y_train\"], data[\"X_test\"], data[\"Y_test\"]\n",
    "    X_train = X_train / 255.0\n",
    "    X_test = X_test / 255.0\n",
    "    model = build_model()\n",
    "    model.compile(optimizer='adam', loss='sparse_categorical_crossentropy',metrics=['accuracy'])\n",
    "    for epoch in range(10,70,10):\n",
    "        ck_dir = \"ckpt_dogcat\"\n",
    "        checkpoint_path = ck_dir+\"/cp-00\"+str(epoch)+\".ckpt\"\n",
    "        model.load_weights(checkpoint_path)\n",
    "        test_loss, test_acc = model.evaluate(X_test, Y_test)\n",
    "        print(f\"Epoch {epoch}->Testing Accuracy: {(test_acc):.2f}%\")\n"
   ]
  },
  {
   "cell_type": "code",
   "execution_count": 40,
   "metadata": {
    "colab": {
     "base_uri": "https://localhost:8080/",
     "height": 1000
    },
    "executionInfo": {
     "elapsed": 6888,
     "status": "error",
     "timestamp": 1682872019401,
     "user": {
      "displayName": "劉東霖",
      "userId": "04574598346699482273"
     },
     "user_tz": -480
    },
    "id": "sBGe0P7h54pW",
    "outputId": "b0f8f4f7-bc78-472b-b34b-0a9f9888d696"
   },
   "outputs": [
    {
     "name": "stdout",
     "output_type": "stream",
     "text": [
      " 20000 / 20000\n",
      "  5000 /  5000\n",
      "20000\n",
      "(48, 48, 3)\n",
      "5000\n",
      "(48, 48, 3)\n",
      "Saving to dogs_cats.pkl\n"
     ]
    }
   ],
   "source": [
    "if __name__ == '__main__':\n",
    "    assignment4b_1() # do not modify this line"
   ]
  },
  {
   "cell_type": "code",
   "execution_count": 41,
   "metadata": {
    "id": "f7yKa1ZG54pY"
   },
   "outputs": [
    {
     "name": "stdout",
     "output_type": "stream",
     "text": [
      "Model: \"model_8\"\n",
      "_________________________________________________________________\n",
      " Layer (type)                Output Shape              Param #   \n",
      "=================================================================\n",
      " input (InputLayer)          [(None, 48, 48, 3)]       0         \n",
      "                                                                 \n",
      " conv2d_3 (Conv2D)           (None, 48, 48, 32)        896       \n",
      "                                                                 \n",
      " max_pool_3 (MaxPooling2D)   (None, 24, 24, 32)        0         \n",
      "                                                                 \n",
      " conv2d_4 (Conv2D)           (None, 24, 24, 32)        9248      \n",
      "                                                                 \n",
      " max_pool_4 (MaxPooling2D)   (None, 12, 12, 32)        0         \n",
      "                                                                 \n",
      " conv2d_5 (Conv2D)           (None, 12, 12, 32)        9248      \n",
      "                                                                 \n",
      " max_pool_5 (MaxPooling2D)   (None, 6, 6, 32)          0         \n",
      "                                                                 \n",
      " flatten_1 (Flatten)         (None, 1152)              0         \n",
      "                                                                 \n",
      " dense_1 (Dense)             (None, 2)                 2306      \n",
      "                                                                 \n",
      "=================================================================\n",
      "Total params: 21,698\n",
      "Trainable params: 21,698\n",
      "Non-trainable params: 0\n",
      "_________________________________________________________________\n",
      "WARNING:tensorflow:`period` argument is deprecated. Please use `save_freq` to specify the frequency in number of batches seen.\n",
      "Epoch 1/64\n",
      "300/300 [==============================] - 18s 59ms/step - loss: 0.6226 - accuracy: 0.6434 - val_loss: 0.5986 - val_accuracy: 0.6835\n",
      "Epoch 2/64\n",
      "300/300 [==============================] - 18s 59ms/step - loss: 0.5236 - accuracy: 0.7413 - val_loss: 0.5236 - val_accuracy: 0.7380\n",
      "Epoch 3/64\n",
      "300/300 [==============================] - 18s 59ms/step - loss: 0.4717 - accuracy: 0.7724 - val_loss: 0.5081 - val_accuracy: 0.7490\n",
      "Epoch 4/64\n",
      "300/300 [==============================] - 18s 58ms/step - loss: 0.4399 - accuracy: 0.7945 - val_loss: 0.4956 - val_accuracy: 0.7625\n",
      "Epoch 5/64\n",
      "300/300 [==============================] - 18s 59ms/step - loss: 0.4103 - accuracy: 0.8128 - val_loss: 0.4656 - val_accuracy: 0.7870\n",
      "Epoch 6/64\n",
      "300/300 [==============================] - 18s 59ms/step - loss: 0.3907 - accuracy: 0.8233 - val_loss: 0.4929 - val_accuracy: 0.7695\n",
      "Epoch 7/64\n",
      "300/300 [==============================] - 18s 59ms/step - loss: 0.3692 - accuracy: 0.8337 - val_loss: 0.4595 - val_accuracy: 0.7925\n",
      "Epoch 8/64\n",
      "300/300 [==============================] - 18s 59ms/step - loss: 0.3484 - accuracy: 0.8458 - val_loss: 0.4556 - val_accuracy: 0.8010\n",
      "Epoch 9/64\n",
      "300/300 [==============================] - 18s 59ms/step - loss: 0.3243 - accuracy: 0.8578 - val_loss: 0.4286 - val_accuracy: 0.8095\n",
      "Epoch 10/64\n",
      "300/300 [==============================] - ETA: 0s - loss: 0.3032 - accuracy: 0.8686\n",
      "Epoch 10: saving model to ckpt_dogcat\\cp-0010.ckpt\n",
      "300/300 [==============================] - 18s 59ms/step - loss: 0.3032 - accuracy: 0.8686 - val_loss: 0.4462 - val_accuracy: 0.8080\n",
      "Epoch 11/64\n",
      "300/300 [==============================] - 18s 59ms/step - loss: 0.2890 - accuracy: 0.8768 - val_loss: 0.4246 - val_accuracy: 0.8190\n",
      "Epoch 12/64\n",
      "300/300 [==============================] - 18s 59ms/step - loss: 0.2768 - accuracy: 0.8837 - val_loss: 0.4260 - val_accuracy: 0.8115\n",
      "Epoch 13/64\n",
      "300/300 [==============================] - 18s 59ms/step - loss: 0.2565 - accuracy: 0.8914 - val_loss: 0.4182 - val_accuracy: 0.8175\n",
      "Epoch 14/64\n",
      "300/300 [==============================] - 18s 59ms/step - loss: 0.2423 - accuracy: 0.8999 - val_loss: 0.4542 - val_accuracy: 0.8130\n",
      "Epoch 15/64\n",
      "300/300 [==============================] - 18s 60ms/step - loss: 0.2272 - accuracy: 0.9059 - val_loss: 0.4515 - val_accuracy: 0.8210\n",
      "Epoch 16/64\n",
      "300/300 [==============================] - 18s 60ms/step - loss: 0.2128 - accuracy: 0.9133 - val_loss: 0.4526 - val_accuracy: 0.8235\n",
      "Epoch 17/64\n",
      "300/300 [==============================] - 18s 60ms/step - loss: 0.1925 - accuracy: 0.9232 - val_loss: 0.4764 - val_accuracy: 0.8110\n",
      "Epoch 18/64\n",
      "300/300 [==============================] - 18s 60ms/step - loss: 0.1776 - accuracy: 0.9310 - val_loss: 0.5032 - val_accuracy: 0.8010\n",
      "Epoch 19/64\n",
      "300/300 [==============================] - 18s 59ms/step - loss: 0.1759 - accuracy: 0.9290 - val_loss: 0.4746 - val_accuracy: 0.8145\n",
      "Epoch 20/64\n",
      "300/300 [==============================] - ETA: 0s - loss: 0.1571 - accuracy: 0.9385\n",
      "Epoch 20: saving model to ckpt_dogcat\\cp-0020.ckpt\n",
      "300/300 [==============================] - 18s 61ms/step - loss: 0.1571 - accuracy: 0.9385 - val_loss: 0.5042 - val_accuracy: 0.8180\n",
      "Epoch 21/64\n",
      "300/300 [==============================] - 18s 59ms/step - loss: 0.1457 - accuracy: 0.9430 - val_loss: 0.5054 - val_accuracy: 0.8230\n",
      "Epoch 22/64\n",
      "300/300 [==============================] - 18s 61ms/step - loss: 0.1346 - accuracy: 0.9471 - val_loss: 0.5930 - val_accuracy: 0.7880\n",
      "Epoch 23/64\n",
      "300/300 [==============================] - 18s 60ms/step - loss: 0.1294 - accuracy: 0.9483 - val_loss: 0.5311 - val_accuracy: 0.8245\n",
      "Epoch 24/64\n",
      "300/300 [==============================] - 19s 64ms/step - loss: 0.1175 - accuracy: 0.9563 - val_loss: 0.5778 - val_accuracy: 0.8105\n",
      "Epoch 25/64\n",
      "300/300 [==============================] - 18s 61ms/step - loss: 0.1006 - accuracy: 0.9633 - val_loss: 0.5933 - val_accuracy: 0.8185\n",
      "Epoch 26/64\n",
      "300/300 [==============================] - 18s 61ms/step - loss: 0.0993 - accuracy: 0.9636 - val_loss: 0.6278 - val_accuracy: 0.8090\n",
      "Epoch 27/64\n",
      "300/300 [==============================] - 19s 63ms/step - loss: 0.0985 - accuracy: 0.9625 - val_loss: 0.6333 - val_accuracy: 0.8165\n",
      "Epoch 28/64\n",
      "300/300 [==============================] - 19s 62ms/step - loss: 0.0836 - accuracy: 0.9699 - val_loss: 0.6598 - val_accuracy: 0.8040\n",
      "Epoch 29/64\n",
      "300/300 [==============================] - 18s 61ms/step - loss: 0.0795 - accuracy: 0.9710 - val_loss: 0.6519 - val_accuracy: 0.8190\n",
      "Epoch 30/64\n",
      "300/300 [==============================] - ETA: 0s - loss: 0.0674 - accuracy: 0.9763\n",
      "Epoch 30: saving model to ckpt_dogcat\\cp-0030.ckpt\n",
      "300/300 [==============================] - 18s 60ms/step - loss: 0.0674 - accuracy: 0.9763 - val_loss: 0.7026 - val_accuracy: 0.8165\n",
      "Epoch 31/64\n",
      "300/300 [==============================] - 18s 60ms/step - loss: 0.0598 - accuracy: 0.9806 - val_loss: 0.7315 - val_accuracy: 0.8095\n",
      "Epoch 32/64\n",
      "300/300 [==============================] - 18s 60ms/step - loss: 0.0605 - accuracy: 0.9783 - val_loss: 0.7647 - val_accuracy: 0.8125\n",
      "Epoch 33/64\n",
      "300/300 [==============================] - 20s 67ms/step - loss: 0.0514 - accuracy: 0.9840 - val_loss: 0.7881 - val_accuracy: 0.8010\n",
      "Epoch 34/64\n",
      "300/300 [==============================] - 18s 60ms/step - loss: 0.0443 - accuracy: 0.9861 - val_loss: 0.8465 - val_accuracy: 0.7970\n",
      "Epoch 35/64\n",
      "300/300 [==============================] - 20s 66ms/step - loss: 0.0556 - accuracy: 0.9797 - val_loss: 0.8685 - val_accuracy: 0.7955\n",
      "Epoch 36/64\n",
      "300/300 [==============================] - 20s 65ms/step - loss: 0.0468 - accuracy: 0.9831 - val_loss: 0.8629 - val_accuracy: 0.8015\n",
      "Epoch 37/64\n",
      "300/300 [==============================] - 20s 66ms/step - loss: 0.0422 - accuracy: 0.9856 - val_loss: 0.8960 - val_accuracy: 0.7965\n",
      "Epoch 38/64\n",
      "300/300 [==============================] - 20s 65ms/step - loss: 0.0300 - accuracy: 0.9915 - val_loss: 0.9477 - val_accuracy: 0.7975\n",
      "Epoch 39/64\n",
      "300/300 [==============================] - 19s 65ms/step - loss: 0.0398 - accuracy: 0.9867 - val_loss: 0.9426 - val_accuracy: 0.8075\n",
      "Epoch 40/64\n",
      "300/300 [==============================] - ETA: 0s - loss: 0.0338 - accuracy: 0.9889\n",
      "Epoch 40: saving model to ckpt_dogcat\\cp-0040.ckpt\n",
      "300/300 [==============================] - 20s 66ms/step - loss: 0.0338 - accuracy: 0.9889 - val_loss: 0.9805 - val_accuracy: 0.7890\n",
      "Epoch 41/64\n",
      "300/300 [==============================] - 21s 69ms/step - loss: 0.0309 - accuracy: 0.9901 - val_loss: 0.9932 - val_accuracy: 0.8025\n"
     ]
    },
    {
     "name": "stdout",
     "output_type": "stream",
     "text": [
      "Epoch 42/64\n",
      "300/300 [==============================] - 20s 68ms/step - loss: 0.0255 - accuracy: 0.9922 - val_loss: 0.9918 - val_accuracy: 0.7980\n",
      "Epoch 43/64\n",
      "300/300 [==============================] - 19s 64ms/step - loss: 0.0400 - accuracy: 0.9862 - val_loss: 1.0512 - val_accuracy: 0.7940\n",
      "Epoch 44/64\n",
      "300/300 [==============================] - 19s 64ms/step - loss: 0.0299 - accuracy: 0.9894 - val_loss: 1.0366 - val_accuracy: 0.8000\n",
      "Epoch 45/64\n",
      "300/300 [==============================] - 20s 65ms/step - loss: 0.0144 - accuracy: 0.9967 - val_loss: 1.0689 - val_accuracy: 0.8140\n",
      "Epoch 46/64\n",
      "300/300 [==============================] - 19s 64ms/step - loss: 0.0382 - accuracy: 0.9862 - val_loss: 1.1167 - val_accuracy: 0.7965\n",
      "Epoch 47/64\n",
      "300/300 [==============================] - 19s 64ms/step - loss: 0.0264 - accuracy: 0.9909 - val_loss: 1.1816 - val_accuracy: 0.8010\n",
      "Epoch 48/64\n",
      "300/300 [==============================] - 19s 64ms/step - loss: 0.0244 - accuracy: 0.9917 - val_loss: 1.1196 - val_accuracy: 0.8015\n",
      "Epoch 49/64\n",
      "300/300 [==============================] - 20s 66ms/step - loss: 0.0249 - accuracy: 0.9916 - val_loss: 1.1494 - val_accuracy: 0.8040\n",
      "Epoch 50/64\n",
      "300/300 [==============================] - ETA: 0s - loss: 0.0264 - accuracy: 0.9911\n",
      "Epoch 50: saving model to ckpt_dogcat\\cp-0050.ckpt\n",
      "300/300 [==============================] - 19s 64ms/step - loss: 0.0264 - accuracy: 0.9911 - val_loss: 1.2145 - val_accuracy: 0.7990\n",
      "Epoch 51/64\n",
      "300/300 [==============================] - 19s 64ms/step - loss: 0.0111 - accuracy: 0.9972 - val_loss: 1.2482 - val_accuracy: 0.7955\n",
      "Epoch 52/64\n",
      "300/300 [==============================] - 19s 64ms/step - loss: 0.0494 - accuracy: 0.9830 - val_loss: 1.1950 - val_accuracy: 0.7900\n",
      "Epoch 53/64\n",
      "300/300 [==============================] - 20s 66ms/step - loss: 0.0279 - accuracy: 0.9903 - val_loss: 1.2548 - val_accuracy: 0.7985\n",
      "Epoch 54/64\n",
      "300/300 [==============================] - 20s 68ms/step - loss: 0.0158 - accuracy: 0.9945 - val_loss: 1.3193 - val_accuracy: 0.8015\n",
      "Epoch 55/64\n",
      "300/300 [==============================] - 20s 68ms/step - loss: 0.0145 - accuracy: 0.9952 - val_loss: 1.2801 - val_accuracy: 0.8025\n",
      "Epoch 56/64\n",
      "300/300 [==============================] - 20s 68ms/step - loss: 0.0061 - accuracy: 0.9988 - val_loss: 1.3017 - val_accuracy: 0.8000\n",
      "Epoch 57/64\n",
      "300/300 [==============================] - 20s 66ms/step - loss: 0.0543 - accuracy: 0.9814 - val_loss: 1.2726 - val_accuracy: 0.7835\n",
      "Epoch 58/64\n",
      "300/300 [==============================] - 19s 64ms/step - loss: 0.0617 - accuracy: 0.9773 - val_loss: 1.3001 - val_accuracy: 0.7980\n",
      "Epoch 59/64\n",
      "300/300 [==============================] - 20s 67ms/step - loss: 0.0195 - accuracy: 0.9937 - val_loss: 1.3127 - val_accuracy: 0.8060\n",
      "Epoch 60/64\n",
      "300/300 [==============================] - ETA: 0s - loss: 0.0059 - accuracy: 0.9987\n",
      "Epoch 60: saving model to ckpt_dogcat\\cp-0060.ckpt\n",
      "300/300 [==============================] - 20s 67ms/step - loss: 0.0059 - accuracy: 0.9987 - val_loss: 1.3954 - val_accuracy: 0.7935\n",
      "Epoch 61/64\n",
      "300/300 [==============================] - 20s 66ms/step - loss: 0.0024 - accuracy: 0.9998 - val_loss: 1.3818 - val_accuracy: 0.8015\n",
      "Epoch 62/64\n",
      "300/300 [==============================] - 19s 65ms/step - loss: 0.0011 - accuracy: 1.0000 - val_loss: 1.3791 - val_accuracy: 0.8030\n",
      "Epoch 63/64\n",
      "300/300 [==============================] - 20s 66ms/step - loss: 8.0739e-04 - accuracy: 1.0000 - val_loss: 1.3934 - val_accuracy: 0.8045\n",
      "Epoch 64/64\n",
      "300/300 [==============================] - 19s 65ms/step - loss: 6.9829e-04 - accuracy: 1.0000 - val_loss: 1.4104 - val_accuracy: 0.8050\n",
      "157/157 [==============================] - 2s 10ms/step - loss: 1.2683 - accuracy: 0.8306\n",
      "test_loss:1.2683467864990234,test_acc:0.8306000232696533\n"
     ]
    }
   ],
   "source": [
    "    assignment4b_2() # do not modify this line"
   ]
  },
  {
   "cell_type": "code",
   "execution_count": 42,
   "metadata": {
    "id": "raNx-KLP54pY"
   },
   "outputs": [
    {
     "data": {
      "image/png": "[encoded data removed]",
      "text/plain": [
       "<Figure size 640x480 with 1 Axes>"
      ]
     },
     "metadata": {},
     "output_type": "display_data"
    },
    {
     "data": {
      "image/png": "[encoded data removed]",
      "text/plain": [
       "<Figure size 640x480 with 1 Axes>"
      ]
     },
     "metadata": {},
     "output_type": "display_data"
    }
   ],
   "source": [
    "    assignment4b_3() # do not modify this line"
   ]
  },
  {
   "cell_type": "code",
   "execution_count": 9,
   "metadata": {
    "id": "U9y9PYLG54pZ"
   },
   "outputs": [
    {
     "name": "stdout",
     "output_type": "stream",
     "text": [
      "157/157 [==============================] - 3s 9ms/step - loss: 0.3894 - accuracy: 0.8278\n",
      "Epoch 10->Testing Accuracy: 0.83%\n",
      "157/157 [==============================] - 1s 8ms/step - loss: 0.4550 - accuracy: 0.8380\n",
      "Epoch 20->Testing Accuracy: 0.84%\n",
      "157/157 [==============================] - 1s 8ms/step - loss: 0.6544 - accuracy: 0.8310\n",
      "Epoch 30->Testing Accuracy: 0.83%\n",
      "157/157 [==============================] - 1s 9ms/step - loss: 0.8746 - accuracy: 0.8214\n",
      "Epoch 40->Testing Accuracy: 0.82%\n",
      "157/157 [==============================] - 1s 9ms/step - loss: 1.0992 - accuracy: 0.8250\n",
      "Epoch 50->Testing Accuracy: 0.82%\n",
      "157/157 [==============================] - 1s 9ms/step - loss: 1.2224 - accuracy: 0.8294\n",
      "Epoch 60->Testing Accuracy: 0.83%\n"
     ]
    }
   ],
   "source": [
    "    assignment4b_4() # do not modify this line"
   ]
  },
  {
   "cell_type": "code",
   "execution_count": 44,
   "metadata": {
    "id": "Vrh0hvZt54pZ"
   },
   "outputs": [
    {
     "data": {
      "text/plain": [
       "'\\n如果將shuffle設置為False，模型會按照數據集中的順序進行訓練，而不是每次從數據集中隨機選擇樣本。\\n這可能會導致模型在訓練期間學習到數據的某些特定模式，而不是一般化的模式，這可能會導致驗證準確度下降。\\n因此，如果數據集中樣本的順序對模型的性能有影響，那麼將shuffle設置為False可能會降低驗證準確度。\\n'"
      ]
     },
     "execution_count": 44,
     "metadata": {},
     "output_type": "execute_result"
    }
   ],
   "source": [
    "# Question 1 (5 points): If we set shuffle=False during the execution of model.fit() in Assignment 4b-2,\n",
    "# which was previously set to shuffle=True, what impact will this have on the validation accuracy?\n",
    "# Write down your answer here.\n",
    "'''\n",
    "如果將shuffle設置為False，模型會按照數據集中的順序進行訓練，而不是每次從數據集中隨機選擇樣本。\n",
    "這可能會導致模型在訓練期間學習到數據的某些特定模式，而不是一般化的模式，這可能會導致驗證準確度下降。\n",
    "因此，如果數據集中樣本的順序對模型的性能有影響，那麼將shuffle設置為False可能會降低驗證準確度。\n",
    "'''"
   ]
  },
  {
   "cell_type": "code",
   "execution_count": 10,
   "metadata": {
    "id": "N9Q6DcTh54pa"
   },
   "outputs": [
    {
     "data": {
      "text/plain": [
       "'\\n第 20 個 epoch 獲得了最高的測試準確率，為 0.84%。\\n原因可能是模型在這個 epoch 達到了最佳的權重參數組合，能夠在測試集上取得最好的表現。\\n隨著訓練繼續進行，模型可能會出現過擬合現象，導致測試準確率下降。\\n'"
      ]
     },
     "execution_count": 10,
     "metadata": {},
     "output_type": "execute_result"
    }
   ],
   "source": [
    "# Question 2 (5 points): In Assignment 4b-4, what epoch yields the highest test accuracy, and what is the reason for this?\n",
    "# Write down your answer here.\n",
    "'''\n",
    "第 20 個 epoch 獲得了最高的測試準確率，為 0.84%。\n",
    "原因可能是模型在這個 epoch 達到了最佳的權重參數組合，能夠在測試集上取得最好的表現。\n",
    "隨著訓練繼續進行，模型可能會出現過擬合現象，導致測試準確率下降。\n",
    "'''"
   ]
  },
  {
   "cell_type": "code",
   "execution_count": null,
   "metadata": {},
   "outputs": [],
   "source": []
  }
 ],
 "metadata": {
  "colab": {
   "provenance": []
  },
  "kernelspec": {
   "display_name": "Python 3 (ipykernel)",
   "language": "python",
   "name": "python3"
  },
  "language_info": {
   "codemirror_mode": {
    "name": "ipython",
    "version": 3
   },
   "file_extension": ".py",
   "mimetype": "text/x-python",
   "name": "python",
   "nbconvert_exporter": "python",
   "pygments_lexer": "ipython3",
   "version": "3.9.15"
  }
 },
 "nbformat": 4,
 "nbformat_minor": 1
}
