{
 "cells": [
  {
   "cell_type": "code",
   "execution_count": 8,
   "metadata": {
    "colab": {
     "base_uri": "https://localhost:8080/"
    },
    "executionInfo": {
     "elapsed": 7,
     "status": "ok",
     "timestamp": 1676983207230,
     "user": {
      "displayName": "劉東霖",
      "userId": "04574598346699482273"
     },
     "user_tz": -480
    },
    "id": "ZrQKJhAbyI9P",
    "outputId": "f96240f1-ad65-4928-c689-b4e15f1d3dc2"
   },
   "outputs": [
    {
     "name": "stdout",
     "output_type": "stream",
     "text": [
      "case1\n",
      "A = [[ 3  2 -1]\n",
      " [ 6 -1  3]\n",
      " [ 1 10 -2]] b = [[-7 -4  2]]\n",
      "The linear system Ax=b has only one solution.\n",
      "The solution is  [[-2.]\n",
      " [ 1.]\n",
      " [ 3.]]\n",
      "\n",
      "case2\n",
      "A = [[ 4 -1  3]\n",
      " [21 -4 18]\n",
      " [-9  1 -9]] b = [[ 5  7 -8]]\n",
      "The linear system Ax=b has no solutions.\n",
      "\n",
      "case3\n",
      "A = [[ 7 -4  1]\n",
      " [ 3  2 -1]\n",
      " [ 5 12 -5]] b = [[-15  -5  -5]]\n",
      "The linear system Ax=b has infinitely many solutions.\n",
      "\n"
     ]
    }
   ],
   "source": [
    "import numpy as np\n",
    "\n",
    "def solve_linear_equation(A, b):\n",
    "   # enter your code here, and remove the following line (30%)\n",
    "   rankA=np.linalg.matrix_rank(A)\n",
    "   ab=np.hstack((A,b))\n",
    "   rank_ab=np.linalg.matrix_rank(ab)\n",
    "   if(rankA==rank_ab):\n",
    "     if(A.shape[0]==rankA):\n",
    "       return 1\n",
    "     else:\n",
    "       return 0  \n",
    "   else:\n",
    "     return -1\n",
    "\n",
    "def flag_to_message(flag):\n",
    "   if flag == 1:\n",
    "     print('The linear system Ax=b has only one solution.')\n",
    "   elif flag == 0:\n",
    "     print('The linear system Ax=b has infinitely many solutions.')\n",
    "   elif flag == -1:\n",
    "     print('The linear system Ax=b has no solutions.')\n",
    "   else:\n",
    "     print('Unknown flag!')\n",
    "\n",
    "def get_input_data(input_id):\n",
    "   if input_id == 'case1': \n",
    "     A = np.array([[3, 2, -1], [6, -1, 3], [1, 10, -2]])\n",
    "     b = np.array([[-7], [-4], [2]])\n",
    "   elif input_id == 'case2':\n",
    "     A = np.array([[4, -1, 3], [21, -4, 18], [-9, 1, -9]])\n",
    "     b = np.array([[5], [7], [-8]])\n",
    "   elif input_id == 'case3':\n",
    "     A = np.array([[7, -4, 1], [3, 2, -1], [5, 12, -5]])\n",
    "     b = np.array([[-15], [-5], [-5]])      \n",
    "   return A, b\n",
    "\n",
    "if __name__ == '__main__':\n",
    "   for case in ['case1','case2','case3']:\n",
    "     A, b = get_input_data(case)\n",
    "     print(case)\n",
    "     print('A =', A, 'b =', b.T)\n",
    "     flag = solve_linear_equation(A, b)\n",
    "     flag_to_message(flag)\n",
    "     if flag == 1:\n",
    "       print('The solution is ', np.linalg.solve(A, b))\n",
    "     print()"
   ]
  },
  {
   "cell_type": "code",
   "execution_count": 9,
   "metadata": {
    "colab": {
     "base_uri": "https://localhost:8080/",
     "height": 35
    },
    "executionInfo": {
     "elapsed": 14,
     "status": "ok",
     "timestamp": 1676985596806,
     "user": {
      "displayName": "劉東霖",
      "userId": "04574598346699482273"
     },
     "user_tz": -480
    },
    "id": "BQ7jfdPHyQQT",
    "outputId": "7e8a915b-1bc2-44b2-cf8c-60cd0971128b"
   },
   "outputs": [
    {
     "data": {
      "text/plain": [
       "'\\n  我不行用np.linalg.solve()判斷是否Ax=b，因為當無解時編譯器會報錯。\\n  以例子說明:\\n  \\n  A=[[1,0,0],[0,1,0],[0,0,1]],B=[[2],[5],[0]]，會發生1/0，OVERFLOW狀況發生\\n'"
      ]
     },
     "execution_count": 9,
     "metadata": {},
     "output_type": "execute_result"
    }
   ],
   "source": [
    "# Can we use np.linalg.solve() to determine whether 𝐀𝐱=𝐛 is consistent? Explain the reason for your answer. (5%)\n",
    "# Write down your answer here.\n",
    "'''\n",
    "  我不行用np.linalg.solve()判斷是否Ax=b，因為當無解時編譯器會報錯。\n",
    "  以例子說明:\n",
    "  \n",
    "  A=[[1,0,0],[0,1,0],[0,0,1]],B=[[2],[5],[0]]，會發生1/0，OVERFLOW狀況發生\n",
    "'''"
   ]
  },
  {
   "cell_type": "code",
   "execution_count": 10,
   "metadata": {
    "colab": {
     "base_uri": "https://localhost:8080/",
     "height": 35
    },
    "executionInfo": {
     "elapsed": 768,
     "status": "ok",
     "timestamp": 1676986037954,
     "user": {
      "displayName": "劉東霖",
      "userId": "04574598346699482273"
     },
     "user_tz": -480
    },
    "id": "HQf_Rb7wIXUV",
    "outputId": "837a0c6d-4941-4321-e1b7-5db73ac94489"
   },
   "outputs": [
    {
     "data": {
      "text/plain": [
       "'\\n  當rank(A)=n的時候，則表示該矩陣的列向量線性獨立，所以Ax=b必有解。\\n'"
      ]
     },
     "execution_count": 10,
     "metadata": {},
     "output_type": "execute_result"
    }
   ],
   "source": [
    "# Given matrix 𝐀 of dimension (m,n). If rank(𝐀)=𝑛, can we infer that 𝐀𝐱=𝐛 is consistent? Explain the reason for your answer. (5%)\n",
    "# Write down your answer here.\n",
    "'''\n",
    "  當rank(A)=n的時候，則表示該矩陣的列向量線性獨立，所以Ax=b必有解。\n",
    "'''"
   ]
  }
 ],
 "metadata": {
  "colab": {
   "authorship_tag": "ABX9TyOIgDa1LjchI4EnqVWLHOru",
   "provenance": []
  },
  "kernelspec": {
   "display_name": "Python 3 (ipykernel)",
   "language": "python",
   "name": "python3"
  },
  "language_info": {
   "codemirror_mode": {
    "name": "ipython",
    "version": 3
   },
   "file_extension": ".py",
   "mimetype": "text/x-python",
   "name": "python",
   "nbconvert_exporter": "python",
   "pygments_lexer": "ipython3",
   "version": "3.9.15"
  }
 },
 "nbformat": 4,
 "nbformat_minor": 1
}
